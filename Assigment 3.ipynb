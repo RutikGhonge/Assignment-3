{
 "cells": [
  {
   "cell_type": "code",
   "execution_count": null,
   "id": "f9ef2f92",
   "metadata": {},
   "outputs": [],
   "source": [
    "### Write a Python program to count the number of even and odd numbers from a series of numbers.\n",
    "### Sample numbers : numbers = (1, 2, 3, 4, 5, 6, 7, 8, 9) "
   ]
  },
  {
   "cell_type": "code",
   "execution_count": 7,
   "id": "00949c23",
   "metadata": {},
   "outputs": [
    {
     "name": "stdout",
     "output_type": "stream",
     "text": [
      "Number of Even Numbers : 4\n",
      "Number of Odd Numbers : 5\n"
     ]
    }
   ],
   "source": [
    "numbers = [1, 2, 3, 4, 5, 6, 7, 8, 9]\n",
    "Even = 0\n",
    "Odd = 0\n",
    "for i in  numbers:\n",
    "    if i%2==0:\n",
    "        Even+=1\n",
    "    else:\n",
    "        Odd+=1\n",
    "print(\"Number of Even Numbers :\",Even)\n",
    "print(\"Number of Odd Numbers :\",Odd)"
   ]
  }
 ],
 "metadata": {
  "kernelspec": {
   "display_name": "Python 3 (ipykernel)",
   "language": "python",
   "name": "python3"
  },
  "language_info": {
   "codemirror_mode": {
    "name": "ipython",
    "version": 3
   },
   "file_extension": ".py",
   "mimetype": "text/x-python",
   "name": "python",
   "nbconvert_exporter": "python",
   "pygments_lexer": "ipython3",
   "version": "3.10.0"
  }
 },
 "nbformat": 4,
 "nbformat_minor": 5
}
